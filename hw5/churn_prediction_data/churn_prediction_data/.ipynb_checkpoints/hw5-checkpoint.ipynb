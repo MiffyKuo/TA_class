{
 "cells": [
  {
   "cell_type": "code",
   "execution_count": 1,
   "id": "7e384760",
   "metadata": {},
   "outputs": [],
   "source": [
    "import pandas as pd\n",
    "import numpy as np\n",
    "from sklearn.model_selection import train_test_split\n",
    "from sklearn.neighbors import KNeighborsClassifier"
   ]
  },
  {
   "cell_type": "code",
   "execution_count": 2,
   "id": "92504147",
   "metadata": {
    "scrolled": true
   },
   "outputs": [],
   "source": [
    "train = pd.read_csv('C:\\\\Users\\\\JamesKuo\\\\Desktop\\\\資料科學導論\\\\hw5\\\\churn_prediction_data\\\\churn_prediction_data\\\\train.csv')\n",
    "test = pd.read_csv('C:\\\\Users\\\\JamesKuo\\\\Desktop\\\\資料科學導論\\\\hw5\\\\churn_prediction_data\\\\churn_prediction_data\\\\test.csv')\n",
    "upload = pd.read_csv('C:\\\\Users\\\\JamesKuo\\\\Desktop\\\\資料科學導論\\\\hw5\\\\churn_prediction_data\\\\churn_prediction_data\\\\upload.csv')\n",
    "train = train.dropna(axis = 1, how = 'all')\n",
    "test = test.dropna(axis = 1, how = 'all')\n",
    "# test.head()"
   ]
  },
  {
   "cell_type": "code",
   "execution_count": 3,
   "id": "88fc64ed",
   "metadata": {},
   "outputs": [],
   "source": [
    "temp = ['RowNumber', 'CustomerId', 'Surname', 'Exited']\n",
    "train_X = train.drop(temp, axis = 1) \n",
    "train_y = train['Exited']\n",
    "test_X = test.drop(temp[0:3], axis = 1)\n"
   ]
  },
  {
   "cell_type": "code",
   "execution_count": 4,
   "id": "5c638be8",
   "metadata": {},
   "outputs": [],
   "source": [
    "from sklearn.preprocessing import LabelEncoder\n",
    "from sklearn import preprocessing\n",
    "labelencoder = LabelEncoder()\n",
    "train_X['Geography'] = labelencoder.fit_transform(train_X['Geography'])\n",
    "train_X['Gender'] = labelencoder.fit_transform(train_X['Gender'])\n",
    "train_X['Age'] = preprocessing.scale(train_X['Age'])\n",
    "train_X['Tenure'] = preprocessing.scale(train_X['Tenure'])\n",
    "train_X['Balance'] = preprocessing.scale(train_X['Balance'])\n",
    "train_X['EstimatedSalary'] = preprocessing.scale(train_X['EstimatedSalary'])\n"
   ]
  },
  {
   "cell_type": "code",
   "execution_count": 5,
   "id": "0687488e",
   "metadata": {},
   "outputs": [],
   "source": [
    "test_X['Geography'] = labelencoder.fit_transform(test_X['Geography'])\n",
    "test_X['Gender'] = labelencoder.fit_transform(test_X['Gender'])\n",
    "test_X['Age'] = preprocessing.scale(test_X['Age'])\n",
    "test_X['Tenure'] = preprocessing.scale(test_X['Tenure'])\n",
    "test_X['Balance'] = preprocessing.scale(test_X['Balance'])\n",
    "test_X['EstimatedSalary'] = preprocessing.scale(test_X['EstimatedSalary'])"
   ]
  },
  {
   "cell_type": "code",
   "execution_count": 6,
   "id": "21acb864",
   "metadata": {},
   "outputs": [
    {
     "data": {
      "text/plain": [
       "array([0, 0, 0, ..., 0, 0, 0], dtype=int64)"
      ]
     },
     "execution_count": 6,
     "metadata": {},
     "output_type": "execute_result"
    }
   ],
   "source": [
    "classifier = KNeighborsClassifier()\n",
    "classifier.fit(train_X, train_y)\n",
    "pred_y = classifier.predict(test_X)\n",
    "pred_y"
   ]
  },
  {
   "cell_type": "code",
   "execution_count": 7,
   "id": "0f4b0610",
   "metadata": {},
   "outputs": [],
   "source": [
    "upload['Exited'] = pred_y\n",
    "upload.to_csv('1')"
   ]
  }
 ],
 "metadata": {
  "kernelspec": {
   "display_name": "Python 3",
   "language": "python",
   "name": "python3"
  },
  "language_info": {
   "codemirror_mode": {
    "name": "ipython",
    "version": 3
   },
   "file_extension": ".py",
   "mimetype": "text/x-python",
   "name": "python",
   "nbconvert_exporter": "python",
   "pygments_lexer": "ipython3",
   "version": "3.8.8"
  }
 },
 "nbformat": 4,
 "nbformat_minor": 5
}
