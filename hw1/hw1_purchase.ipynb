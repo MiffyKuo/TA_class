{
 "cells": [
  {
   "cell_type": "markdown",
   "metadata": {},
   "source": [
    "### In-Game Purchase Data Analysis\n",
    "\n",
    "#### Background \n",
    "\n",
    "In this homework, you are ask to deal with a task of analyzing an \"in-game purchase\" dataset. In this game, players are able to to purchase optional items that enhance their playing experience. Now your task is to generate a report that breaks down the game's purchasing data into meaningful insights.\n",
    "\n",
    "-----\n",
    "\n",
    "#### Observable Trends\n",
    "\n",
    "* There are 1163 active players. The vast majority are male (84%). There also exists, a smaller, but notable proportion of female players (14%).\n",
    "\n",
    "* Our peak age demographic falls between 20-24 (44.79%) with secondary groups falling between 15-19 (18.58%) and 25-29 (13.37%). \n",
    "\n",
    "* The age group that spends the most money is the 20-24 with 1,114.06 dollars as total purchase value and an average purchase of 4.32. In contrast, the demographic group that has the highest average purchase is the 35-39 with 4.76 and a total purchase value of 147.67. \n",
    "-----\n"
   ]
  },
  {
   "cell_type": "code",
   "execution_count": 3,
   "metadata": {},
   "outputs": [],
   "source": [
    "import pandas as pd\n",
    "import numpy as np\n",
    "\n",
    "# Raw data file\n",
    "file_to_load = \"purchase_data.csv\"\n",
    "\n",
    "# Read purchasing file and store into pandas data frame\n",
    "purchase_data = pd.read_csv(file_to_load)\n"
   ]
  },
  {
   "cell_type": "markdown",
   "metadata": {},
   "source": [
    "## Player Count"
   ]
  },
  {
   "cell_type": "markdown",
   "metadata": {},
   "source": [
    "* Display the total number of players\n"
   ]
  },
  {
   "cell_type": "code",
   "execution_count": 3,
   "metadata": {},
   "outputs": [
    {
     "data": {
      "text/html": [
       "<div>\n",
       "<style scoped>\n",
       "    .dataframe tbody tr th:only-of-type {\n",
       "        vertical-align: middle;\n",
       "    }\n",
       "\n",
       "    .dataframe tbody tr th {\n",
       "        vertical-align: top;\n",
       "    }\n",
       "\n",
       "    .dataframe thead th {\n",
       "        text-align: right;\n",
       "    }\n",
       "</style>\n",
       "<table border=\"1\" class=\"dataframe\">\n",
       "  <thead>\n",
       "    <tr style=\"text-align: right;\">\n",
       "      <th></th>\n",
       "      <th>Total players</th>\n",
       "    </tr>\n",
       "  </thead>\n",
       "  <tbody>\n",
       "    <tr>\n",
       "      <th>0</th>\n",
       "      <td>576</td>\n",
       "    </tr>\n",
       "  </tbody>\n",
       "</table>\n",
       "</div>"
      ],
      "text/plain": [
       "   Total players\n",
       "0            576"
      ]
     },
     "execution_count": 3,
     "metadata": {},
     "output_type": "execute_result"
    }
   ],
   "source": [
    "a=len(purchase_data.drop_duplicates(subset=['SN']).index)\n",
    "pd.DataFrame({'Total players':[a]})"
   ]
  },
  {
   "cell_type": "markdown",
   "metadata": {},
   "source": [
    "## Purchasing Analysis (Total)"
   ]
  },
  {
   "cell_type": "markdown",
   "metadata": {},
   "source": [
    "* Run basic calculations to obtain number of unique items, average price, etc.\n",
    "* Create a summary data frame to hold the results\n",
    "* Display the summary data frame"
   ]
  },
  {
   "cell_type": "code",
   "execution_count": 4,
   "metadata": {},
   "outputs": [
    {
     "data": {
      "text/html": [
       "<div>\n",
       "<style scoped>\n",
       "    .dataframe tbody tr th:only-of-type {\n",
       "        vertical-align: middle;\n",
       "    }\n",
       "\n",
       "    .dataframe tbody tr th {\n",
       "        vertical-align: top;\n",
       "    }\n",
       "\n",
       "    .dataframe thead th {\n",
       "        text-align: right;\n",
       "    }\n",
       "</style>\n",
       "<table border=\"1\" class=\"dataframe\">\n",
       "  <thead>\n",
       "    <tr style=\"text-align: right;\">\n",
       "      <th></th>\n",
       "      <th>Number of Unique Items</th>\n",
       "      <th>Average Price</th>\n",
       "      <th>Number of Purchases</th>\n",
       "      <th>Total Revenue</th>\n",
       "    </tr>\n",
       "  </thead>\n",
       "  <tbody>\n",
       "    <tr>\n",
       "      <th>0</th>\n",
       "      <td>183</td>\n",
       "      <td>$3.05</td>\n",
       "      <td>780</td>\n",
       "      <td>$2379.77</td>\n",
       "    </tr>\n",
       "  </tbody>\n",
       "</table>\n",
       "</div>"
      ],
      "text/plain": [
       "   Number of Unique Items Average Price  Number of Purchases Total Revenue\n",
       "0                     183         $3.05                  780      $2379.77"
      ]
     },
     "execution_count": 4,
     "metadata": {},
     "output_type": "execute_result"
    }
   ],
   "source": [
    "#calculate 'Number of Unique Items'\n",
    "\n",
    "x = len(purchase_data.drop_duplicates(subset=['Item ID']).index)\n",
    "\n",
    "#calculate 'Average Price'\n",
    "\n",
    "sum_price=0.0\n",
    "\n",
    "for i in range(len(purchase_data.index)):\n",
    "    sum_price += purchase_data['Price'][i]\n",
    "avg = sum_price / len(purchase_data.index)\n",
    "y = round(avg,2)\n",
    "\n",
    "#calculate 'Number of Purchases'\n",
    "\n",
    "z = len(purchase_data.index)\n",
    "\n",
    "#calculate 'Total Revenue'\n",
    "\n",
    "a = round(avg*z,2)\n",
    "\n",
    "pd.DataFrame({'Number of Unique Items':[x],\n",
    "              'Average Price':['$'+str(y)],\n",
    "              'Number of Purchases':[z],\n",
    "              'Total Revenue':['$'+str(a)]})\n",
    "            "
   ]
  },
  {
   "cell_type": "markdown",
   "metadata": {},
   "source": [
    "## Gender Demographics"
   ]
  },
  {
   "cell_type": "markdown",
   "metadata": {},
   "source": [
    "* Percentage and Count of Male Players\n",
    "\n",
    "\n",
    "* Percentage and Count of Female Players\n",
    "\n",
    "\n",
    "* Percentage and Count of Other / Non-Disclosed\n",
    "\n",
    "\n"
   ]
  },
  {
   "cell_type": "code",
   "execution_count": 45,
   "metadata": {},
   "outputs": [
    {
     "data": {
      "text/html": [
       "<div>\n",
       "<style scoped>\n",
       "    .dataframe tbody tr th:only-of-type {\n",
       "        vertical-align: middle;\n",
       "    }\n",
       "\n",
       "    .dataframe tbody tr th {\n",
       "        vertical-align: top;\n",
       "    }\n",
       "\n",
       "    .dataframe thead th {\n",
       "        text-align: right;\n",
       "    }\n",
       "</style>\n",
       "<table border=\"1\" class=\"dataframe\">\n",
       "  <thead>\n",
       "    <tr style=\"text-align: right;\">\n",
       "      <th></th>\n",
       "      <th>Percentage of Players</th>\n",
       "      <th>Total Count</th>\n",
       "    </tr>\n",
       "  </thead>\n",
       "  <tbody>\n",
       "    <tr>\n",
       "      <th>Male</th>\n",
       "      <td>84.03</td>\n",
       "      <td>484</td>\n",
       "    </tr>\n",
       "    <tr>\n",
       "      <th>Female</th>\n",
       "      <td>14.06</td>\n",
       "      <td>81</td>\n",
       "    </tr>\n",
       "    <tr>\n",
       "      <th>Other / Non-Disclosed</th>\n",
       "      <td>1.91</td>\n",
       "      <td>11</td>\n",
       "    </tr>\n",
       "  </tbody>\n",
       "</table>\n",
       "</div>"
      ],
      "text/plain": [
       "                       Percentage of Players  Total Count\n",
       "Male                                   84.03          484\n",
       "Female                                 14.06           81\n",
       "Other / Non-Disclosed                   1.91           11"
      ]
     },
     "execution_count": 45,
     "metadata": {},
     "output_type": "execute_result"
    }
   ],
   "source": [
    "#calculate 'Percentage of Male Players'\n",
    "\n",
    "Male=[]\n",
    "for i in range(len(purchase_data.index)):\n",
    "    if purchase_data['Gender'][i] == 'Male':\n",
    "        Male.append(purchase_data['SN'][i])\n",
    "        \n",
    "a=len(list(set(Male)))  #Male_count\n",
    "\n",
    "\n",
    "#calculate 'Percentage of Female Players'\n",
    "\n",
    "Female=[]\n",
    "for i in range(len(purchase_data.index)):\n",
    "    if purchase_data['Gender'][i] == 'Female':\n",
    "        Female.append(purchase_data['SN'][i])\n",
    "\n",
    "b=len(list(set(Female)))  #Female_count\n",
    "\n",
    "#calculate 'Percentage of Other / Non-Disclosed Players'\n",
    "\n",
    "Other=[]\n",
    "for i in range(len(purchase_data.index)):\n",
    "    if purchase_data['Gender'][i] == 'Other / Non-Disclosed':\n",
    "        Other.append(purchase_data['SN'][i])\n",
    "        \n",
    "c=len(list(set(Other)))  #Other_count   \n",
    "\n",
    "p_male = round(a/(a+b+c)*100,2)\n",
    "p_female = round(b/(a+b+c)*100,2)\n",
    "p_other = round(c/(a+b+c)*100,2)\n",
    "\n",
    "test = [(p_male,a),(p_female,b),(p_other,c)]\n",
    "\n",
    "pd.DataFrame(test,columns = ['Percentage of Players','Total Count'],index = ['Male','Female','Other / Non-Disclosed'])"
   ]
  },
  {
   "cell_type": "markdown",
   "metadata": {},
   "source": [
    "\n",
    "## Purchasing Analysis (Gender)"
   ]
  },
  {
   "cell_type": "markdown",
   "metadata": {},
   "source": [
    "* Run basic calculations to obtain below values by gender\n",
    "  * Purchase Count\n",
    "  * Average Purchase Price  \n",
    "  * Total Purchase Value\n",
    "  * Average Purchase Total per Person by Gender\n",
    "* Create a summary data frame to hold the results\n",
    "* Display the summary data frame"
   ]
  },
  {
   "cell_type": "code",
   "execution_count": 47,
   "metadata": {},
   "outputs": [
    {
     "data": {
      "text/html": [
       "<div>\n",
       "<style scoped>\n",
       "    .dataframe tbody tr th:only-of-type {\n",
       "        vertical-align: middle;\n",
       "    }\n",
       "\n",
       "    .dataframe tbody tr th {\n",
       "        vertical-align: top;\n",
       "    }\n",
       "\n",
       "    .dataframe thead th {\n",
       "        text-align: right;\n",
       "    }\n",
       "</style>\n",
       "<table border=\"1\" class=\"dataframe\">\n",
       "  <thead>\n",
       "    <tr style=\"text-align: right;\">\n",
       "      <th></th>\n",
       "      <th>Purchase Count</th>\n",
       "      <th>Average Purchase Price</th>\n",
       "      <th>Total Purchase Value</th>\n",
       "      <th>Avg Purchase Total per Person</th>\n",
       "    </tr>\n",
       "  </thead>\n",
       "  <tbody>\n",
       "    <tr>\n",
       "      <th>Female</th>\n",
       "      <td>113</td>\n",
       "      <td>3.20301</td>\n",
       "      <td>361.94</td>\n",
       "      <td>$4.47</td>\n",
       "    </tr>\n",
       "    <tr>\n",
       "      <th>Male</th>\n",
       "      <td>652</td>\n",
       "      <td>3.01785</td>\n",
       "      <td>1967.64</td>\n",
       "      <td>$4.07</td>\n",
       "    </tr>\n",
       "    <tr>\n",
       "      <th>Other / Non-Disclosed</th>\n",
       "      <td>15</td>\n",
       "      <td>3.34600</td>\n",
       "      <td>50.19</td>\n",
       "      <td>$4.56</td>\n",
       "    </tr>\n",
       "  </tbody>\n",
       "</table>\n",
       "</div>"
      ],
      "text/plain": [
       "                       Purchase Count  Average Purchase Price  \\\n",
       "Female                            113                 3.20301   \n",
       "Male                              652                 3.01785   \n",
       "Other / Non-Disclosed              15                 3.34600   \n",
       "\n",
       "                       Total Purchase Value Avg Purchase Total per Person  \n",
       "Female                               361.94                         $4.47  \n",
       "Male                                1967.64                         $4.07  \n",
       "Other / Non-Disclosed                 50.19                         $4.56  "
      ]
     },
     "execution_count": 47,
     "metadata": {},
     "output_type": "execute_result"
    }
   ],
   "source": [
    "#calculate 'Percentage of Male Players'\n",
    "\n",
    "Male=[]\n",
    "for i in range(len(purchase_data.index)):\n",
    "    if purchase_data['Gender'][i] == 'Male':\n",
    "        Male.append(purchase_data['SN'][i])\n",
    "        \n",
    "Male_count=len(list(set(Male)))  #Male_count\n",
    "\n",
    "\n",
    "#calculate 'Percentage of Female Players'\n",
    "\n",
    "Female=[]\n",
    "for i in range(len(purchase_data.index)):\n",
    "    if purchase_data['Gender'][i] == 'Female':\n",
    "        Female.append(purchase_data['SN'][i])\n",
    "\n",
    "Female_count=len(list(set(Female)))  #Female_count\n",
    "\n",
    "#calculate 'Percentage of Other / Non-Disclosed Players'\n",
    "\n",
    "Other=[]\n",
    "for i in range(len(purchase_data.index)):\n",
    "    if purchase_data['Gender'][i] == 'Other / Non-Disclosed':\n",
    "        Other.append(purchase_data['SN'][i])\n",
    "        \n",
    "Other_count=len(list(set(Other)))  #Other_count \n",
    "\n",
    "\n",
    "b=0\n",
    "temp_b=0\n",
    "for i in range(len(purchase_data.index)):\n",
    "    if purchase_data['Gender'][i] == 'Female':\n",
    "        temp_b+=purchase_data['Price'][i]\n",
    "        b+=1\n",
    "female_total_purchase = round(temp_b,2)\n",
    "female_avg_purchase_price = round(temp_b/b,5)\n",
    "x = round(female_total_purchase/Female_count,2)\n",
    "\n",
    "\n",
    "a=0\n",
    "temp_a=0\n",
    "for i in range(len(purchase_data.index)):\n",
    "    if purchase_data['Gender'][i] == 'Male':\n",
    "        temp_a+=purchase_data['Price'][i]\n",
    "        a+=1\n",
    "male_total_purchase = round(temp_a,2)\n",
    "male_avg_purchase_price = round(temp_a/a,5)\n",
    "y = round(male_total_purchase/Male_count,2)\n",
    "\n",
    "                 \n",
    "c=0\n",
    "temp_c=0\n",
    "for i in range(len(purchase_data.index)):\n",
    "    if purchase_data['Gender'][i] == 'Other / Non-Disclosed':\n",
    "        temp_c+=purchase_data['Price'][i]\n",
    "        c+=1\n",
    "other_total_purchase = round(temp_c,2)\n",
    "other_avg_purchase_price = round(temp_c/c,5)\n",
    "z = round(other_total_purchase/Other_count,2)\n",
    "\n",
    "#------------------------------------------------------------------------------\n",
    "\n",
    "test = [(b,female_avg_purchase_price,female_total_purchase,'$'+str(x)),\n",
    "        (a,male_avg_purchase_price,male_total_purchase,'$'+str(y)),\n",
    "        (c,other_avg_purchase_price,other_total_purchase,'$'+str(z))]\n",
    "\n",
    "pd.DataFrame(test,columns = ['Purchase Count','Average Purchase Price','Total Purchase Value','Avg Purchase Total per Person'],\n",
    "             index = ['Female','Male','Other / Non-Disclosed'])"
   ]
  },
  {
   "cell_type": "markdown",
   "metadata": {},
   "source": [
    "## Age Demographics"
   ]
  },
  {
   "cell_type": "markdown",
   "metadata": {},
   "source": [
    "* Categorize players using the age groups. Hint: use pd.cut()\n",
    "  * each group is for 4 years (i.e. &lt;10, 10-14, 15-19, etc.)\n",
    "* Calculate the numbers and percentages by age group\n",
    "* Create a summary data frame to hold the results\n",
    "* round the percentage column to two decimal points\n",
    "* Display Age Demographics Table"
   ]
  },
  {
   "cell_type": "code",
   "execution_count": 37,
   "metadata": {},
   "outputs": [
    {
     "data": {
      "text/html": [
       "<div>\n",
       "<style scoped>\n",
       "    .dataframe tbody tr th:only-of-type {\n",
       "        vertical-align: middle;\n",
       "    }\n",
       "\n",
       "    .dataframe tbody tr th {\n",
       "        vertical-align: top;\n",
       "    }\n",
       "\n",
       "    .dataframe thead th {\n",
       "        text-align: right;\n",
       "    }\n",
       "</style>\n",
       "<table border=\"1\" class=\"dataframe\">\n",
       "  <thead>\n",
       "    <tr style=\"text-align: right;\">\n",
       "      <th></th>\n",
       "      <th>Percentage of Players</th>\n",
       "      <th>Total Count</th>\n",
       "    </tr>\n",
       "  </thead>\n",
       "  <tbody>\n",
       "    <tr>\n",
       "      <th></th>\n",
       "      <td>2.95</td>\n",
       "      <td>17</td>\n",
       "    </tr>\n",
       "    <tr>\n",
       "      <th>10-14</th>\n",
       "      <td>3.82</td>\n",
       "      <td>22</td>\n",
       "    </tr>\n",
       "    <tr>\n",
       "      <th>15-19</th>\n",
       "      <td>18.58</td>\n",
       "      <td>107</td>\n",
       "    </tr>\n",
       "    <tr>\n",
       "      <th>20-24</th>\n",
       "      <td>44.79</td>\n",
       "      <td>258</td>\n",
       "    </tr>\n",
       "    <tr>\n",
       "      <th>25-29</th>\n",
       "      <td>13.37</td>\n",
       "      <td>77</td>\n",
       "    </tr>\n",
       "    <tr>\n",
       "      <th>30-34</th>\n",
       "      <td>9.03</td>\n",
       "      <td>52</td>\n",
       "    </tr>\n",
       "    <tr>\n",
       "      <th>35-39</th>\n",
       "      <td>5.38</td>\n",
       "      <td>31</td>\n",
       "    </tr>\n",
       "    <tr>\n",
       "      <th>40+</th>\n",
       "      <td>2.08</td>\n",
       "      <td>12</td>\n",
       "    </tr>\n",
       "  </tbody>\n",
       "</table>\n",
       "</div>"
      ],
      "text/plain": [
       "       Percentage of Players  Total Count\n",
       "                        2.95           17\n",
       "10-14                   3.82           22\n",
       "15-19                  18.58          107\n",
       "20-24                  44.79          258\n",
       "25-29                  13.37           77\n",
       "30-34                   9.03           52\n",
       "35-39                   5.38           31\n",
       "40+                     2.08           12"
      ]
     },
     "execution_count": 37,
     "metadata": {},
     "output_type": "execute_result"
    }
   ],
   "source": [
    "ages = []\n",
    "name = []\n",
    "\n",
    "for i in range(len(purchase_data)):\n",
    "    #if 人名不在name裡\n",
    "    if purchase_data['SN'][i] not in name:\n",
    "        ages.append(purchase_data['Age'][i])\n",
    "        name.append(purchase_data['SN'][i])\n",
    "      \n",
    "\n",
    "bins = [0,9,14,19,24,29,34,39]\n",
    "\n",
    "category = pd.cut(ages,bins)\n",
    "\n",
    "num_interval=[0,0,0,0,0,0,0,0]\n",
    "\n",
    "for i in range(len(category)):\n",
    "    if str(category[i]) == '(0, 9]':\n",
    "        num_interval[0]+=1\n",
    "    elif str(category[i]) == '(9, 14]':\n",
    "        num_interval[1]+=1\n",
    "    elif str(category[i]) == '(14, 19]':\n",
    "        num_interval[2]+=1\n",
    "    elif str(category[i]) == '(19, 24]':\n",
    "        num_interval[3]+=1\n",
    "    elif str(category[i]) == '(24, 29]':\n",
    "        num_interval[4]+=1\n",
    "    elif str(category[i]) == '(29, 34]':\n",
    "        num_interval[5]+=1\n",
    "    elif str(category[i]) == '(34, 39]':\n",
    "        num_interval[6]+=1\n",
    "    else:\n",
    "        num_interval[7]+=1\n",
    "\n",
    "a = len(category)\n",
    "\n",
    "#-----------------------------------------------------------------------------------\n",
    "\n",
    "data = [(round(num_interval[0]/a*100,2),num_interval[0]),\n",
    "        (round(num_interval[1]/a*100,2),num_interval[1]),\n",
    "        (round(num_interval[2]/a*100,2),num_interval[2]),\n",
    "        (round(num_interval[3]/a*100,2),num_interval[3]),\n",
    "        (round(num_interval[4]/a*100,2),num_interval[4]),\n",
    "        (round(num_interval[5]/a*100,2),num_interval[5]),\n",
    "        (round(num_interval[6]/a*100,2),num_interval[6]),\n",
    "        (round(num_interval[7]/a*100,2),num_interval[7])]\n",
    "pd.DataFrame(data,columns = ['Percentage of Players','Total Count'],\n",
    "             index = [' ','10-14','15-19','20-24','25-29','30-34','35-39','40+'])"
   ]
  },
  {
   "cell_type": "code",
   "execution_count": 6,
   "metadata": {},
   "outputs": [
    {
     "data": {
      "text/html": [
       "<style  type=\"text/css\" >\n",
       "</style><table id=\"T_050994da_4411_11e9_894a_9822ef93214c\" ><thead>    <tr>        <th class=\"blank level0\" ></th>        <th class=\"col_heading level0 col0\" >Percentage of Players</th>        <th class=\"col_heading level0 col1\" >Total Count</th>    </tr></thead><tbody>\n",
       "                <tr>\n",
       "                        <th id=\"T_050994da_4411_11e9_894a_9822ef93214clevel0_row0\" class=\"row_heading level0 row0\" ><10</th>\n",
       "                        <td id=\"T_050994da_4411_11e9_894a_9822ef93214crow0_col0\" class=\"data row0 col0\" >2.95</td>\n",
       "                        <td id=\"T_050994da_4411_11e9_894a_9822ef93214crow0_col1\" class=\"data row0 col1\" >17</td>\n",
       "            </tr>\n",
       "            <tr>\n",
       "                        <th id=\"T_050994da_4411_11e9_894a_9822ef93214clevel0_row1\" class=\"row_heading level0 row1\" >10-14</th>\n",
       "                        <td id=\"T_050994da_4411_11e9_894a_9822ef93214crow1_col0\" class=\"data row1 col0\" >3.82</td>\n",
       "                        <td id=\"T_050994da_4411_11e9_894a_9822ef93214crow1_col1\" class=\"data row1 col1\" >22</td>\n",
       "            </tr>\n",
       "            <tr>\n",
       "                        <th id=\"T_050994da_4411_11e9_894a_9822ef93214clevel0_row2\" class=\"row_heading level0 row2\" >15-19</th>\n",
       "                        <td id=\"T_050994da_4411_11e9_894a_9822ef93214crow2_col0\" class=\"data row2 col0\" >18.58</td>\n",
       "                        <td id=\"T_050994da_4411_11e9_894a_9822ef93214crow2_col1\" class=\"data row2 col1\" >107</td>\n",
       "            </tr>\n",
       "            <tr>\n",
       "                        <th id=\"T_050994da_4411_11e9_894a_9822ef93214clevel0_row3\" class=\"row_heading level0 row3\" >20-24</th>\n",
       "                        <td id=\"T_050994da_4411_11e9_894a_9822ef93214crow3_col0\" class=\"data row3 col0\" >44.79</td>\n",
       "                        <td id=\"T_050994da_4411_11e9_894a_9822ef93214crow3_col1\" class=\"data row3 col1\" >258</td>\n",
       "            </tr>\n",
       "            <tr>\n",
       "                        <th id=\"T_050994da_4411_11e9_894a_9822ef93214clevel0_row4\" class=\"row_heading level0 row4\" >25-29</th>\n",
       "                        <td id=\"T_050994da_4411_11e9_894a_9822ef93214crow4_col0\" class=\"data row4 col0\" >13.37</td>\n",
       "                        <td id=\"T_050994da_4411_11e9_894a_9822ef93214crow4_col1\" class=\"data row4 col1\" >77</td>\n",
       "            </tr>\n",
       "            <tr>\n",
       "                        <th id=\"T_050994da_4411_11e9_894a_9822ef93214clevel0_row5\" class=\"row_heading level0 row5\" >30-34</th>\n",
       "                        <td id=\"T_050994da_4411_11e9_894a_9822ef93214crow5_col0\" class=\"data row5 col0\" >9.03</td>\n",
       "                        <td id=\"T_050994da_4411_11e9_894a_9822ef93214crow5_col1\" class=\"data row5 col1\" >52</td>\n",
       "            </tr>\n",
       "            <tr>\n",
       "                        <th id=\"T_050994da_4411_11e9_894a_9822ef93214clevel0_row6\" class=\"row_heading level0 row6\" >35-39</th>\n",
       "                        <td id=\"T_050994da_4411_11e9_894a_9822ef93214crow6_col0\" class=\"data row6 col0\" >5.38</td>\n",
       "                        <td id=\"T_050994da_4411_11e9_894a_9822ef93214crow6_col1\" class=\"data row6 col1\" >31</td>\n",
       "            </tr>\n",
       "            <tr>\n",
       "                        <th id=\"T_050994da_4411_11e9_894a_9822ef93214clevel0_row7\" class=\"row_heading level0 row7\" >40+</th>\n",
       "                        <td id=\"T_050994da_4411_11e9_894a_9822ef93214crow7_col0\" class=\"data row7 col0\" >2.08</td>\n",
       "                        <td id=\"T_050994da_4411_11e9_894a_9822ef93214crow7_col1\" class=\"data row7 col1\" >12</td>\n",
       "            </tr>\n",
       "    </tbody></table>"
      ],
      "text/plain": [
       "<pandas.io.formats.style.Styler at 0xc1b5d70>"
      ]
     },
     "execution_count": 6,
     "metadata": {},
     "output_type": "execute_result"
    }
   ],
   "source": []
  },
  {
   "cell_type": "markdown",
   "metadata": {},
   "source": [
    "## Purchasing Analysis (Age)"
   ]
  },
  {
   "cell_type": "markdown",
   "metadata": {},
   "source": [
    "* The below each broken into groups of 4 years (i.e. &lt;10, 10-14, 15-19, etc.)\n",
    "  * Purchase Count\n",
    "  * Average Purchase Price\n",
    "  * Total Purchase Value\n",
    "  * Average Purchase Total per Person by Age Group\n",
    "* Bin the purchase_data data frame by age\n",
    "* Run basic calculations to obtain purchase count, avg. purchase price, avg. purchase total per person etc. in the table below\n",
    "* Create a summary data frame to hold the results\n",
    "* Display the summary data frame"
   ]
  },
  {
   "cell_type": "code",
   "execution_count": 3,
   "metadata": {},
   "outputs": [
    {
     "data": {
      "text/html": [
       "<div>\n",
       "<style scoped>\n",
       "    .dataframe tbody tr th:only-of-type {\n",
       "        vertical-align: middle;\n",
       "    }\n",
       "\n",
       "    .dataframe tbody tr th {\n",
       "        vertical-align: top;\n",
       "    }\n",
       "\n",
       "    .dataframe thead th {\n",
       "        text-align: right;\n",
       "    }\n",
       "</style>\n",
       "<table border=\"1\" class=\"dataframe\">\n",
       "  <thead>\n",
       "    <tr style=\"text-align: right;\">\n",
       "      <th></th>\n",
       "      <th>Purchase Count</th>\n",
       "      <th>Average Purchase Price</th>\n",
       "      <th>Total Purchase Value</th>\n",
       "      <th>Average Purchase Total per Person</th>\n",
       "    </tr>\n",
       "  </thead>\n",
       "  <tbody>\n",
       "    <tr>\n",
       "      <th></th>\n",
       "      <td>23</td>\n",
       "      <td>$3.35</td>\n",
       "      <td>$77.13</td>\n",
       "      <td>$4.54</td>\n",
       "    </tr>\n",
       "    <tr>\n",
       "      <th>10-14</th>\n",
       "      <td>28</td>\n",
       "      <td>$2.96</td>\n",
       "      <td>$82.78</td>\n",
       "      <td>$3.76</td>\n",
       "    </tr>\n",
       "    <tr>\n",
       "      <th>15-19</th>\n",
       "      <td>136</td>\n",
       "      <td>$3.04</td>\n",
       "      <td>$412.89</td>\n",
       "      <td>$3.86</td>\n",
       "    </tr>\n",
       "    <tr>\n",
       "      <th>20-24</th>\n",
       "      <td>365</td>\n",
       "      <td>$3.05</td>\n",
       "      <td>$1114.06</td>\n",
       "      <td>$4.32</td>\n",
       "    </tr>\n",
       "    <tr>\n",
       "      <th>25-29</th>\n",
       "      <td>101</td>\n",
       "      <td>$2.9</td>\n",
       "      <td>$293.0</td>\n",
       "      <td>$3.81</td>\n",
       "    </tr>\n",
       "    <tr>\n",
       "      <th>30-34</th>\n",
       "      <td>73</td>\n",
       "      <td>$2.93</td>\n",
       "      <td>$214.0</td>\n",
       "      <td>$4.12</td>\n",
       "    </tr>\n",
       "    <tr>\n",
       "      <th>35-39</th>\n",
       "      <td>41</td>\n",
       "      <td>$3.6</td>\n",
       "      <td>$147.67</td>\n",
       "      <td>$4.76</td>\n",
       "    </tr>\n",
       "    <tr>\n",
       "      <th>40+</th>\n",
       "      <td>13</td>\n",
       "      <td>$2.94</td>\n",
       "      <td>$38.24</td>\n",
       "      <td>$3.19</td>\n",
       "    </tr>\n",
       "  </tbody>\n",
       "</table>\n",
       "</div>"
      ],
      "text/plain": [
       "       Purchase Count Average Purchase Price Total Purchase Value  \\\n",
       "                   23                  $3.35               $77.13   \n",
       "10-14              28                  $2.96               $82.78   \n",
       "15-19             136                  $3.04              $412.89   \n",
       "20-24             365                  $3.05             $1114.06   \n",
       "25-29             101                   $2.9               $293.0   \n",
       "30-34              73                  $2.93               $214.0   \n",
       "35-39              41                   $3.6              $147.67   \n",
       "40+                13                  $2.94               $38.24   \n",
       "\n",
       "      Average Purchase Total per Person  \n",
       "                                  $4.54  \n",
       "10-14                             $3.76  \n",
       "15-19                             $3.86  \n",
       "20-24                             $4.32  \n",
       "25-29                             $3.81  \n",
       "30-34                             $4.12  \n",
       "35-39                             $4.76  \n",
       "40+                               $3.19  "
      ]
     },
     "execution_count": 3,
     "metadata": {},
     "output_type": "execute_result"
    }
   ],
   "source": [
    "ages = []\n",
    "\n",
    "for i in range(len(purchase_data)):\n",
    "    ages.append(purchase_data['Age'][i])\n",
    "        \n",
    "bins = [0,9,14,19,24,29,34,39]\n",
    "\n",
    "category = pd.cut(ages,bins)\n",
    "\n",
    "num_interval = [0,0,0,0,0,0,0,0]\n",
    "\n",
    "total_value = [0,0,0,0,0,0,0,0]\n",
    "\n",
    "for i in range(len(category)):\n",
    "    if str(category[i]) == '(0, 9]':\n",
    "        total_value[0]+=purchase_data['Price'][i]\n",
    "        num_interval[0]+=1\n",
    "    elif str(category[i]) == '(9, 14]':\n",
    "        total_value[1]+=purchase_data['Price'][i]\n",
    "        num_interval[1]+=1\n",
    "    elif str(category[i]) == '(14, 19]':\n",
    "        total_value[2]+=purchase_data['Price'][i]\n",
    "        num_interval[2]+=1\n",
    "    elif str(category[i]) == '(19, 24]':\n",
    "        total_value[3]+=purchase_data['Price'][i]\n",
    "        num_interval[3]+=1\n",
    "    elif str(category[i]) == '(24, 29]':\n",
    "        total_value[4]+=purchase_data['Price'][i]\n",
    "        num_interval[4]+=1\n",
    "    elif str(category[i]) == '(29, 34]':\n",
    "        total_value[5]+=purchase_data['Price'][i]\n",
    "        num_interval[5]+=1\n",
    "    elif str(category[i]) == '(34, 39]':\n",
    "        total_value[6]+=purchase_data['Price'][i]\n",
    "        num_interval[6]+=1\n",
    "    else:\n",
    "        total_value[7]+=purchase_data['Price'][i]\n",
    "        num_interval[7]+=1\n",
    "\n",
    "name = []\n",
    "ages_unrepeat = []\n",
    "\n",
    "for i in range(len(purchase_data)):\n",
    "    #if 人名不在name裡\n",
    "    if purchase_data['SN'][i] not in name:\n",
    "        ages_unrepeat.append(purchase_data['Age'][i])\n",
    "        name.append(purchase_data['SN'][i])\n",
    "        \n",
    "bins = [0,9,14,19,24,29,34,39]\n",
    "\n",
    "category = pd.cut(ages_unrepeat,bins)\n",
    "\n",
    "num_interval_unrepeat = [0,0,0,0,0,0,0,0]\n",
    "\n",
    "for i in range(len(category)):\n",
    "    if str(category[i]) == '(0, 9]':\n",
    "        num_interval_unrepeat[0]+=1\n",
    "    elif str(category[i]) == '(9, 14]':\n",
    "        num_interval_unrepeat[1]+=1\n",
    "    elif str(category[i]) == '(14, 19]':\n",
    "        num_interval_unrepeat[2]+=1\n",
    "    elif str(category[i]) == '(19, 24]':\n",
    "        num_interval_unrepeat[3]+=1\n",
    "    elif str(category[i]) == '(24, 29]':\n",
    "        num_interval_unrepeat[4]+=1\n",
    "    elif str(category[i]) == '(29, 34]':\n",
    "        num_interval_unrepeat[5]+=1\n",
    "    elif str(category[i]) == '(34, 39]':\n",
    "        num_interval_unrepeat[6]+=1\n",
    "    else:\n",
    "        num_interval_unrepeat[7]+=1\n",
    "      \n",
    "\n",
    "data = [(num_interval[0],'$'+str(round(total_value[0]/num_interval[0],2)),'$'+str(round(total_value[0],2)),'$'+str(round(total_value[0]/num_interval_unrepeat[0],2))),\n",
    "        (num_interval[1],'$'+str(round(total_value[1]/num_interval[1],2)),'$'+str(round(total_value[1],2)),'$'+str(round(total_value[1]/num_interval_unrepeat[1],2))),\n",
    "        (num_interval[2],'$'+str(round(total_value[2]/num_interval[2],2)),'$'+str(round(total_value[2],2)),'$'+str(round(total_value[2]/num_interval_unrepeat[2],2))),\n",
    "        (num_interval[3],'$'+str(round(total_value[3]/num_interval[3],2)),'$'+str(round(total_value[3],2)),'$'+str(round(total_value[3]/num_interval_unrepeat[3],2))),\n",
    "        (num_interval[4],'$'+str(round(total_value[4]/num_interval[4],2)),'$'+str(round(total_value[4],2)),'$'+str(round(total_value[4]/num_interval_unrepeat[4],2))),\n",
    "        (num_interval[5],'$'+str(round(total_value[5]/num_interval[5],2)),'$'+str(round(total_value[5],2)),'$'+str(round(total_value[5]/num_interval_unrepeat[5],2))),\n",
    "        (num_interval[6],'$'+str(round(total_value[6]/num_interval[6],2)),'$'+str(round(total_value[6],2)),'$'+str(round(total_value[6]/num_interval_unrepeat[6],2))),\n",
    "        (num_interval[7],'$'+str(round(total_value[7]/num_interval[7],2)),'$'+str(round(total_value[7],2)),'$'+str(round(total_value[7]/num_interval_unrepeat[7],2)))]\n",
    "pd.DataFrame(data,\n",
    "             columns = ['Purchase Count','Average Purchase Price','Total Purchase Value','Average Purchase Total per Person'],\n",
    "             index = [' ','10-14','15-19','20-24','25-29','30-34','35-39','40+'])"
   ]
  },
  {
   "cell_type": "code",
   "execution_count": 7,
   "metadata": {},
   "outputs": [
    {
     "data": {
      "text/html": [
       "<style  type=\"text/css\" >\n",
       "</style><table id=\"T_050fc9cc_4411_11e9_b456_9822ef93214c\" ><thead>    <tr>        <th class=\"blank level0\" ></th>        <th class=\"col_heading level0 col0\" >Purchase Count</th>        <th class=\"col_heading level0 col1\" >Average Purchase Price</th>        <th class=\"col_heading level0 col2\" >Total Purchase Value</th>        <th class=\"col_heading level0 col3\" >Average Purchase Total per Person</th>    </tr></thead><tbody>\n",
       "                <tr>\n",
       "                        <th id=\"T_050fc9cc_4411_11e9_b456_9822ef93214clevel0_row0\" class=\"row_heading level0 row0\" ><10</th>\n",
       "                        <td id=\"T_050fc9cc_4411_11e9_b456_9822ef93214crow0_col0\" class=\"data row0 col0\" >23</td>\n",
       "                        <td id=\"T_050fc9cc_4411_11e9_b456_9822ef93214crow0_col1\" class=\"data row0 col1\" >$3.35</td>\n",
       "                        <td id=\"T_050fc9cc_4411_11e9_b456_9822ef93214crow0_col2\" class=\"data row0 col2\" >$77.13</td>\n",
       "                        <td id=\"T_050fc9cc_4411_11e9_b456_9822ef93214crow0_col3\" class=\"data row0 col3\" >$4.54</td>\n",
       "            </tr>\n",
       "            <tr>\n",
       "                        <th id=\"T_050fc9cc_4411_11e9_b456_9822ef93214clevel0_row1\" class=\"row_heading level0 row1\" >10-14</th>\n",
       "                        <td id=\"T_050fc9cc_4411_11e9_b456_9822ef93214crow1_col0\" class=\"data row1 col0\" >28</td>\n",
       "                        <td id=\"T_050fc9cc_4411_11e9_b456_9822ef93214crow1_col1\" class=\"data row1 col1\" >$2.96</td>\n",
       "                        <td id=\"T_050fc9cc_4411_11e9_b456_9822ef93214crow1_col2\" class=\"data row1 col2\" >$82.78</td>\n",
       "                        <td id=\"T_050fc9cc_4411_11e9_b456_9822ef93214crow1_col3\" class=\"data row1 col3\" >$3.76</td>\n",
       "            </tr>\n",
       "            <tr>\n",
       "                        <th id=\"T_050fc9cc_4411_11e9_b456_9822ef93214clevel0_row2\" class=\"row_heading level0 row2\" >15-19</th>\n",
       "                        <td id=\"T_050fc9cc_4411_11e9_b456_9822ef93214crow2_col0\" class=\"data row2 col0\" >136</td>\n",
       "                        <td id=\"T_050fc9cc_4411_11e9_b456_9822ef93214crow2_col1\" class=\"data row2 col1\" >$3.04</td>\n",
       "                        <td id=\"T_050fc9cc_4411_11e9_b456_9822ef93214crow2_col2\" class=\"data row2 col2\" >$412.89</td>\n",
       "                        <td id=\"T_050fc9cc_4411_11e9_b456_9822ef93214crow2_col3\" class=\"data row2 col3\" >$3.86</td>\n",
       "            </tr>\n",
       "            <tr>\n",
       "                        <th id=\"T_050fc9cc_4411_11e9_b456_9822ef93214clevel0_row3\" class=\"row_heading level0 row3\" >20-24</th>\n",
       "                        <td id=\"T_050fc9cc_4411_11e9_b456_9822ef93214crow3_col0\" class=\"data row3 col0\" >365</td>\n",
       "                        <td id=\"T_050fc9cc_4411_11e9_b456_9822ef93214crow3_col1\" class=\"data row3 col1\" >$3.05</td>\n",
       "                        <td id=\"T_050fc9cc_4411_11e9_b456_9822ef93214crow3_col2\" class=\"data row3 col2\" >$1,114.06</td>\n",
       "                        <td id=\"T_050fc9cc_4411_11e9_b456_9822ef93214crow3_col3\" class=\"data row3 col3\" >$4.32</td>\n",
       "            </tr>\n",
       "            <tr>\n",
       "                        <th id=\"T_050fc9cc_4411_11e9_b456_9822ef93214clevel0_row4\" class=\"row_heading level0 row4\" >25-29</th>\n",
       "                        <td id=\"T_050fc9cc_4411_11e9_b456_9822ef93214crow4_col0\" class=\"data row4 col0\" >101</td>\n",
       "                        <td id=\"T_050fc9cc_4411_11e9_b456_9822ef93214crow4_col1\" class=\"data row4 col1\" >$2.90</td>\n",
       "                        <td id=\"T_050fc9cc_4411_11e9_b456_9822ef93214crow4_col2\" class=\"data row4 col2\" >$293.00</td>\n",
       "                        <td id=\"T_050fc9cc_4411_11e9_b456_9822ef93214crow4_col3\" class=\"data row4 col3\" >$3.81</td>\n",
       "            </tr>\n",
       "            <tr>\n",
       "                        <th id=\"T_050fc9cc_4411_11e9_b456_9822ef93214clevel0_row5\" class=\"row_heading level0 row5\" >30-34</th>\n",
       "                        <td id=\"T_050fc9cc_4411_11e9_b456_9822ef93214crow5_col0\" class=\"data row5 col0\" >73</td>\n",
       "                        <td id=\"T_050fc9cc_4411_11e9_b456_9822ef93214crow5_col1\" class=\"data row5 col1\" >$2.93</td>\n",
       "                        <td id=\"T_050fc9cc_4411_11e9_b456_9822ef93214crow5_col2\" class=\"data row5 col2\" >$214.00</td>\n",
       "                        <td id=\"T_050fc9cc_4411_11e9_b456_9822ef93214crow5_col3\" class=\"data row5 col3\" >$4.12</td>\n",
       "            </tr>\n",
       "            <tr>\n",
       "                        <th id=\"T_050fc9cc_4411_11e9_b456_9822ef93214clevel0_row6\" class=\"row_heading level0 row6\" >35-39</th>\n",
       "                        <td id=\"T_050fc9cc_4411_11e9_b456_9822ef93214crow6_col0\" class=\"data row6 col0\" >41</td>\n",
       "                        <td id=\"T_050fc9cc_4411_11e9_b456_9822ef93214crow6_col1\" class=\"data row6 col1\" >$3.60</td>\n",
       "                        <td id=\"T_050fc9cc_4411_11e9_b456_9822ef93214crow6_col2\" class=\"data row6 col2\" >$147.67</td>\n",
       "                        <td id=\"T_050fc9cc_4411_11e9_b456_9822ef93214crow6_col3\" class=\"data row6 col3\" >$4.76</td>\n",
       "            </tr>\n",
       "            <tr>\n",
       "                        <th id=\"T_050fc9cc_4411_11e9_b456_9822ef93214clevel0_row7\" class=\"row_heading level0 row7\" >40+</th>\n",
       "                        <td id=\"T_050fc9cc_4411_11e9_b456_9822ef93214crow7_col0\" class=\"data row7 col0\" >13</td>\n",
       "                        <td id=\"T_050fc9cc_4411_11e9_b456_9822ef93214crow7_col1\" class=\"data row7 col1\" >$2.94</td>\n",
       "                        <td id=\"T_050fc9cc_4411_11e9_b456_9822ef93214crow7_col2\" class=\"data row7 col2\" >$38.24</td>\n",
       "                        <td id=\"T_050fc9cc_4411_11e9_b456_9822ef93214crow7_col3\" class=\"data row7 col3\" >$3.19</td>\n",
       "            </tr>\n",
       "    </tbody></table>"
      ],
      "text/plain": [
       "<pandas.io.formats.style.Styler at 0x5a3b9f0>"
      ]
     },
     "execution_count": 7,
     "metadata": {},
     "output_type": "execute_result"
    }
   ],
   "source": []
  },
  {
   "cell_type": "markdown",
   "metadata": {},
   "source": [
    "## Top Spenders"
   ]
  },
  {
   "cell_type": "markdown",
   "metadata": {},
   "source": [
    "* Identify the the top 5 spenders in the game by total purchase value (top-5 players with highest total purchase value), then list (in a table):\n",
    "  * SN(screen name)\n",
    "  * Purchase Count\n",
    "  * Average Purchase Price\n",
    "  * Total Purchase Value\n",
    "* Run basic calculations to obtain the results in the table below\n",
    "* Create a summary data frame to hold the results\n",
    "* Sort the total purchase value column in descending order\n",
    "* Display a preview of the summary data frame"
   ]
  },
  {
   "cell_type": "code",
   "execution_count": 70,
   "metadata": {
    "scrolled": true
   },
   "outputs": [
    {
     "ename": "IndentationError",
     "evalue": "unindent does not match any outer indentation level (<tokenize>, line 11)",
     "output_type": "error",
     "traceback": [
      "\u001b[1;36m  File \u001b[1;32m\"<tokenize>\"\u001b[1;36m, line \u001b[1;32m11\u001b[0m\n\u001b[1;33m    elif total_value['Price'][i] == value_sort[1]:\u001b[0m\n\u001b[1;37m    ^\u001b[0m\n\u001b[1;31mIndentationError\u001b[0m\u001b[1;31m:\u001b[0m unindent does not match any outer indentation level\n"
     ]
    }
   ],
   "source": [
    "total_value = purchase_data.groupby('SN').sum()\n",
    "\n",
    "value_sort = []\n",
    "\n",
    "times = purchase_data['SN'].value_counts()\n",
    "\n",
    "print(times.loc['Lisosia93'])\n",
    "                    \n",
    "for i in range(len(total_value)):\n",
    "    value_sort.append(total_value['Price'][i])\n",
    "value_sort.sort(reverse=True)\n",
    "print(total_value)"
   ]
  },
  {
   "cell_type": "code",
   "execution_count": 4,
   "metadata": {
    "scrolled": true
   },
   "outputs": [
    {
     "name": "stdout",
     "output_type": "stream",
     "text": [
      "                 SN  Purchase Count  Price\n",
      "0         Lisosia93               5  18.96\n",
      "1       Idastidru52               4  15.45\n",
      "2            Iral74               4  13.62\n",
      "3            Asur53               3   7.44\n",
      "4          Hiaral50               3   4.19\n",
      "..              ...             ...    ...\n",
      "571  Haedairiadru51               1   3.09\n",
      "572       Iarallo65               1   1.75\n",
      "573       Lisosia66               1   3.65\n",
      "574        Ilimya66               1   4.23\n",
      "575      Quilassa66               1   4.23\n",
      "\n",
      "[576 rows x 3 columns]\n"
     ]
    }
   ],
   "source": [
    "t=purchase_data.groupby('SN').sum().reset_index()\n",
    "times = purchase_data['SN'].value_counts()\n",
    "tr = times.rename_axis('SN').reset_index(name='Purchase Count')\n",
    "test=pd.merge(tr,t)\n",
    "test.drop(['Purchase ID', 'Age' , 'Item ID'], axis=1, inplace=True)\n",
    "test.sort_values(\"Price\",ascending=False)\n",
    "tx = pd.Series([test['Price'][0]/test['Purchase Count']])\n",
    "print(test)"
   ]
  },
  {
   "cell_type": "code",
   "execution_count": 128,
   "metadata": {},
   "outputs": [
    {
     "name": "stdout",
     "output_type": "stream",
     "text": [
      "            SN  Purchase ID  Age  Item ID  Price\n",
      "0    Lisosia93         1630  125      451  18.96\n",
      "1  Idastidru52         1999   96      527  15.45\n",
      "2   Chamjask73         1306   66      339  13.83\n",
      "3       Iral74         2285   84      518  13.62\n",
      "4  Iskadarya95          713   60      321  13.10\n",
      "18.96\n",
      "5\n"
     ]
    },
    {
     "ename": "KeyError",
     "evalue": "'Lisosia93'",
     "output_type": "error",
     "traceback": [
      "\u001b[1;31m---------------------------------------------------------------------------\u001b[0m",
      "\u001b[1;31mKeyError\u001b[0m                                  Traceback (most recent call last)",
      "\u001b[1;32m<ipython-input-128-a9ec6e2bab0d>\u001b[0m in \u001b[0;36m<module>\u001b[1;34m\u001b[0m\n\u001b[0;32m     10\u001b[0m \u001b[0mprint\u001b[0m\u001b[1;33m(\u001b[0m\u001b[0mtimes\u001b[0m\u001b[1;33m[\u001b[0m\u001b[0mt\u001b[0m\u001b[1;33m.\u001b[0m\u001b[0miloc\u001b[0m\u001b[1;33m[\u001b[0m\u001b[1;36m0\u001b[0m\u001b[1;33m]\u001b[0m\u001b[1;33m[\u001b[0m\u001b[1;34m'SN'\u001b[0m\u001b[1;33m]\u001b[0m\u001b[1;33m]\u001b[0m\u001b[1;33m)\u001b[0m\u001b[1;33m\u001b[0m\u001b[1;33m\u001b[0m\u001b[0m\n\u001b[0;32m     11\u001b[0m \u001b[1;33m\u001b[0m\u001b[0m\n\u001b[1;32m---> 12\u001b[1;33m data = [(times[0],'$'+str(round(total_value.loc[times.index[0]]['Price']/times[0],2)),'$'+str(round(total_value.loc[times.index[0]]['Price'],2))),\n\u001b[0m\u001b[0;32m     13\u001b[0m        \u001b[1;33m(\u001b[0m\u001b[0mtimes\u001b[0m\u001b[1;33m[\u001b[0m\u001b[1;36m1\u001b[0m\u001b[1;33m]\u001b[0m\u001b[1;33m,\u001b[0m\u001b[1;34m'$'\u001b[0m\u001b[1;33m+\u001b[0m\u001b[0mstr\u001b[0m\u001b[1;33m(\u001b[0m\u001b[0mround\u001b[0m\u001b[1;33m(\u001b[0m\u001b[0mtotal_value\u001b[0m\u001b[1;33m.\u001b[0m\u001b[0mloc\u001b[0m\u001b[1;33m[\u001b[0m\u001b[0mtimes\u001b[0m\u001b[1;33m.\u001b[0m\u001b[0mindex\u001b[0m\u001b[1;33m[\u001b[0m\u001b[1;36m1\u001b[0m\u001b[1;33m]\u001b[0m\u001b[1;33m]\u001b[0m\u001b[1;33m[\u001b[0m\u001b[1;34m'Price'\u001b[0m\u001b[1;33m]\u001b[0m\u001b[1;33m/\u001b[0m\u001b[0mtimes\u001b[0m\u001b[1;33m[\u001b[0m\u001b[1;36m1\u001b[0m\u001b[1;33m]\u001b[0m\u001b[1;33m,\u001b[0m\u001b[1;36m2\u001b[0m\u001b[1;33m)\u001b[0m\u001b[1;33m)\u001b[0m\u001b[1;33m,\u001b[0m\u001b[1;34m'$'\u001b[0m\u001b[1;33m+\u001b[0m\u001b[0mstr\u001b[0m\u001b[1;33m(\u001b[0m\u001b[0mround\u001b[0m\u001b[1;33m(\u001b[0m\u001b[0mtotal_value\u001b[0m\u001b[1;33m.\u001b[0m\u001b[0mloc\u001b[0m\u001b[1;33m[\u001b[0m\u001b[0mtimes\u001b[0m\u001b[1;33m.\u001b[0m\u001b[0mindex\u001b[0m\u001b[1;33m[\u001b[0m\u001b[1;36m1\u001b[0m\u001b[1;33m]\u001b[0m\u001b[1;33m]\u001b[0m\u001b[1;33m[\u001b[0m\u001b[1;34m'Price'\u001b[0m\u001b[1;33m]\u001b[0m\u001b[1;33m,\u001b[0m\u001b[1;36m2\u001b[0m\u001b[1;33m)\u001b[0m\u001b[1;33m)\u001b[0m\u001b[1;33m)\u001b[0m\u001b[1;33m,\u001b[0m\u001b[1;33m\u001b[0m\u001b[1;33m\u001b[0m\u001b[0m\n\u001b[0;32m     14\u001b[0m        \u001b[1;33m(\u001b[0m\u001b[0mtimes\u001b[0m\u001b[1;33m[\u001b[0m\u001b[1;36m2\u001b[0m\u001b[1;33m]\u001b[0m\u001b[1;33m,\u001b[0m\u001b[1;34m'$'\u001b[0m\u001b[1;33m+\u001b[0m\u001b[0mstr\u001b[0m\u001b[1;33m(\u001b[0m\u001b[0mround\u001b[0m\u001b[1;33m(\u001b[0m\u001b[0mtotal_value\u001b[0m\u001b[1;33m.\u001b[0m\u001b[0mloc\u001b[0m\u001b[1;33m[\u001b[0m\u001b[0mtimes\u001b[0m\u001b[1;33m.\u001b[0m\u001b[0mindex\u001b[0m\u001b[1;33m[\u001b[0m\u001b[1;36m2\u001b[0m\u001b[1;33m]\u001b[0m\u001b[1;33m]\u001b[0m\u001b[1;33m[\u001b[0m\u001b[1;34m'Price'\u001b[0m\u001b[1;33m]\u001b[0m\u001b[1;33m/\u001b[0m\u001b[0mtimes\u001b[0m\u001b[1;33m[\u001b[0m\u001b[1;36m2\u001b[0m\u001b[1;33m]\u001b[0m\u001b[1;33m,\u001b[0m\u001b[1;36m2\u001b[0m\u001b[1;33m)\u001b[0m\u001b[1;33m)\u001b[0m\u001b[1;33m,\u001b[0m\u001b[1;34m'$'\u001b[0m\u001b[1;33m+\u001b[0m\u001b[0mstr\u001b[0m\u001b[1;33m(\u001b[0m\u001b[0mround\u001b[0m\u001b[1;33m(\u001b[0m\u001b[0mtotal_value\u001b[0m\u001b[1;33m.\u001b[0m\u001b[0mloc\u001b[0m\u001b[1;33m[\u001b[0m\u001b[0mtimes\u001b[0m\u001b[1;33m.\u001b[0m\u001b[0mindex\u001b[0m\u001b[1;33m[\u001b[0m\u001b[1;36m2\u001b[0m\u001b[1;33m]\u001b[0m\u001b[1;33m]\u001b[0m\u001b[1;33m[\u001b[0m\u001b[1;34m'Price'\u001b[0m\u001b[1;33m]\u001b[0m\u001b[1;33m,\u001b[0m\u001b[1;36m2\u001b[0m\u001b[1;33m)\u001b[0m\u001b[1;33m)\u001b[0m\u001b[1;33m)\u001b[0m\u001b[1;33m,\u001b[0m\u001b[1;33m\u001b[0m\u001b[1;33m\u001b[0m\u001b[0m\n",
      "\u001b[1;32m~\\anaconda3\\lib\\site-packages\\pandas\\core\\indexing.py\u001b[0m in \u001b[0;36m__getitem__\u001b[1;34m(self, key)\u001b[0m\n\u001b[0;32m    893\u001b[0m \u001b[1;33m\u001b[0m\u001b[0m\n\u001b[0;32m    894\u001b[0m             \u001b[0mmaybe_callable\u001b[0m \u001b[1;33m=\u001b[0m \u001b[0mcom\u001b[0m\u001b[1;33m.\u001b[0m\u001b[0mapply_if_callable\u001b[0m\u001b[1;33m(\u001b[0m\u001b[0mkey\u001b[0m\u001b[1;33m,\u001b[0m \u001b[0mself\u001b[0m\u001b[1;33m.\u001b[0m\u001b[0mobj\u001b[0m\u001b[1;33m)\u001b[0m\u001b[1;33m\u001b[0m\u001b[1;33m\u001b[0m\u001b[0m\n\u001b[1;32m--> 895\u001b[1;33m             \u001b[1;32mreturn\u001b[0m \u001b[0mself\u001b[0m\u001b[1;33m.\u001b[0m\u001b[0m_getitem_axis\u001b[0m\u001b[1;33m(\u001b[0m\u001b[0mmaybe_callable\u001b[0m\u001b[1;33m,\u001b[0m \u001b[0maxis\u001b[0m\u001b[1;33m=\u001b[0m\u001b[0maxis\u001b[0m\u001b[1;33m)\u001b[0m\u001b[1;33m\u001b[0m\u001b[1;33m\u001b[0m\u001b[0m\n\u001b[0m\u001b[0;32m    896\u001b[0m \u001b[1;33m\u001b[0m\u001b[0m\n\u001b[0;32m    897\u001b[0m     \u001b[1;32mdef\u001b[0m \u001b[0m_is_scalar_access\u001b[0m\u001b[1;33m(\u001b[0m\u001b[0mself\u001b[0m\u001b[1;33m,\u001b[0m \u001b[0mkey\u001b[0m\u001b[1;33m:\u001b[0m \u001b[0mTuple\u001b[0m\u001b[1;33m)\u001b[0m\u001b[1;33m:\u001b[0m\u001b[1;33m\u001b[0m\u001b[1;33m\u001b[0m\u001b[0m\n",
      "\u001b[1;32m~\\anaconda3\\lib\\site-packages\\pandas\\core\\indexing.py\u001b[0m in \u001b[0;36m_getitem_axis\u001b[1;34m(self, key, axis)\u001b[0m\n\u001b[0;32m   1122\u001b[0m         \u001b[1;31m# fall thru to straight lookup\u001b[0m\u001b[1;33m\u001b[0m\u001b[1;33m\u001b[0m\u001b[1;33m\u001b[0m\u001b[0m\n\u001b[0;32m   1123\u001b[0m         \u001b[0mself\u001b[0m\u001b[1;33m.\u001b[0m\u001b[0m_validate_key\u001b[0m\u001b[1;33m(\u001b[0m\u001b[0mkey\u001b[0m\u001b[1;33m,\u001b[0m \u001b[0maxis\u001b[0m\u001b[1;33m)\u001b[0m\u001b[1;33m\u001b[0m\u001b[1;33m\u001b[0m\u001b[0m\n\u001b[1;32m-> 1124\u001b[1;33m         \u001b[1;32mreturn\u001b[0m \u001b[0mself\u001b[0m\u001b[1;33m.\u001b[0m\u001b[0m_get_label\u001b[0m\u001b[1;33m(\u001b[0m\u001b[0mkey\u001b[0m\u001b[1;33m,\u001b[0m \u001b[0maxis\u001b[0m\u001b[1;33m=\u001b[0m\u001b[0maxis\u001b[0m\u001b[1;33m)\u001b[0m\u001b[1;33m\u001b[0m\u001b[1;33m\u001b[0m\u001b[0m\n\u001b[0m\u001b[0;32m   1125\u001b[0m \u001b[1;33m\u001b[0m\u001b[0m\n\u001b[0;32m   1126\u001b[0m     \u001b[1;32mdef\u001b[0m \u001b[0m_get_slice_axis\u001b[0m\u001b[1;33m(\u001b[0m\u001b[0mself\u001b[0m\u001b[1;33m,\u001b[0m \u001b[0mslice_obj\u001b[0m\u001b[1;33m:\u001b[0m \u001b[0mslice\u001b[0m\u001b[1;33m,\u001b[0m \u001b[0maxis\u001b[0m\u001b[1;33m:\u001b[0m \u001b[0mint\u001b[0m\u001b[1;33m)\u001b[0m\u001b[1;33m:\u001b[0m\u001b[1;33m\u001b[0m\u001b[1;33m\u001b[0m\u001b[0m\n",
      "\u001b[1;32m~\\anaconda3\\lib\\site-packages\\pandas\\core\\indexing.py\u001b[0m in \u001b[0;36m_get_label\u001b[1;34m(self, label, axis)\u001b[0m\n\u001b[0;32m   1071\u001b[0m     \u001b[1;32mdef\u001b[0m \u001b[0m_get_label\u001b[0m\u001b[1;33m(\u001b[0m\u001b[0mself\u001b[0m\u001b[1;33m,\u001b[0m \u001b[0mlabel\u001b[0m\u001b[1;33m,\u001b[0m \u001b[0maxis\u001b[0m\u001b[1;33m:\u001b[0m \u001b[0mint\u001b[0m\u001b[1;33m)\u001b[0m\u001b[1;33m:\u001b[0m\u001b[1;33m\u001b[0m\u001b[1;33m\u001b[0m\u001b[0m\n\u001b[0;32m   1072\u001b[0m         \u001b[1;31m# GH#5667 this will fail if the label is not present in the axis.\u001b[0m\u001b[1;33m\u001b[0m\u001b[1;33m\u001b[0m\u001b[1;33m\u001b[0m\u001b[0m\n\u001b[1;32m-> 1073\u001b[1;33m         \u001b[1;32mreturn\u001b[0m \u001b[0mself\u001b[0m\u001b[1;33m.\u001b[0m\u001b[0mobj\u001b[0m\u001b[1;33m.\u001b[0m\u001b[0mxs\u001b[0m\u001b[1;33m(\u001b[0m\u001b[0mlabel\u001b[0m\u001b[1;33m,\u001b[0m \u001b[0maxis\u001b[0m\u001b[1;33m=\u001b[0m\u001b[0maxis\u001b[0m\u001b[1;33m)\u001b[0m\u001b[1;33m\u001b[0m\u001b[1;33m\u001b[0m\u001b[0m\n\u001b[0m\u001b[0;32m   1074\u001b[0m \u001b[1;33m\u001b[0m\u001b[0m\n\u001b[0;32m   1075\u001b[0m     \u001b[1;32mdef\u001b[0m \u001b[0m_handle_lowerdim_multi_index_axis0\u001b[0m\u001b[1;33m(\u001b[0m\u001b[0mself\u001b[0m\u001b[1;33m,\u001b[0m \u001b[0mtup\u001b[0m\u001b[1;33m:\u001b[0m \u001b[0mTuple\u001b[0m\u001b[1;33m)\u001b[0m\u001b[1;33m:\u001b[0m\u001b[1;33m\u001b[0m\u001b[1;33m\u001b[0m\u001b[0m\n",
      "\u001b[1;32m~\\anaconda3\\lib\\site-packages\\pandas\\core\\generic.py\u001b[0m in \u001b[0;36mxs\u001b[1;34m(self, key, axis, level, drop_level)\u001b[0m\n\u001b[0;32m   3737\u001b[0m                 \u001b[1;32mraise\u001b[0m \u001b[0mTypeError\u001b[0m\u001b[1;33m(\u001b[0m\u001b[1;34mf\"Expected label or tuple of labels, got {key}\"\u001b[0m\u001b[1;33m)\u001b[0m \u001b[1;32mfrom\u001b[0m \u001b[0me\u001b[0m\u001b[1;33m\u001b[0m\u001b[1;33m\u001b[0m\u001b[0m\n\u001b[0;32m   3738\u001b[0m         \u001b[1;32melse\u001b[0m\u001b[1;33m:\u001b[0m\u001b[1;33m\u001b[0m\u001b[1;33m\u001b[0m\u001b[0m\n\u001b[1;32m-> 3739\u001b[1;33m             \u001b[0mloc\u001b[0m \u001b[1;33m=\u001b[0m \u001b[0mindex\u001b[0m\u001b[1;33m.\u001b[0m\u001b[0mget_loc\u001b[0m\u001b[1;33m(\u001b[0m\u001b[0mkey\u001b[0m\u001b[1;33m)\u001b[0m\u001b[1;33m\u001b[0m\u001b[1;33m\u001b[0m\u001b[0m\n\u001b[0m\u001b[0;32m   3740\u001b[0m \u001b[1;33m\u001b[0m\u001b[0m\n\u001b[0;32m   3741\u001b[0m             \u001b[1;32mif\u001b[0m \u001b[0misinstance\u001b[0m\u001b[1;33m(\u001b[0m\u001b[0mloc\u001b[0m\u001b[1;33m,\u001b[0m \u001b[0mnp\u001b[0m\u001b[1;33m.\u001b[0m\u001b[0mndarray\u001b[0m\u001b[1;33m)\u001b[0m\u001b[1;33m:\u001b[0m\u001b[1;33m\u001b[0m\u001b[1;33m\u001b[0m\u001b[0m\n",
      "\u001b[1;32m~\\anaconda3\\lib\\site-packages\\pandas\\core\\indexes\\range.py\u001b[0m in \u001b[0;36mget_loc\u001b[1;34m(self, key, method, tolerance)\u001b[0m\n\u001b[0;32m    352\u001b[0m                 \u001b[1;32mexcept\u001b[0m \u001b[0mValueError\u001b[0m \u001b[1;32mas\u001b[0m \u001b[0merr\u001b[0m\u001b[1;33m:\u001b[0m\u001b[1;33m\u001b[0m\u001b[1;33m\u001b[0m\u001b[0m\n\u001b[0;32m    353\u001b[0m                     \u001b[1;32mraise\u001b[0m \u001b[0mKeyError\u001b[0m\u001b[1;33m(\u001b[0m\u001b[0mkey\u001b[0m\u001b[1;33m)\u001b[0m \u001b[1;32mfrom\u001b[0m \u001b[0merr\u001b[0m\u001b[1;33m\u001b[0m\u001b[1;33m\u001b[0m\u001b[0m\n\u001b[1;32m--> 354\u001b[1;33m             \u001b[1;32mraise\u001b[0m \u001b[0mKeyError\u001b[0m\u001b[1;33m(\u001b[0m\u001b[0mkey\u001b[0m\u001b[1;33m)\u001b[0m\u001b[1;33m\u001b[0m\u001b[1;33m\u001b[0m\u001b[0m\n\u001b[0m\u001b[0;32m    355\u001b[0m         \u001b[1;32mreturn\u001b[0m \u001b[0msuper\u001b[0m\u001b[1;33m(\u001b[0m\u001b[1;33m)\u001b[0m\u001b[1;33m.\u001b[0m\u001b[0mget_loc\u001b[0m\u001b[1;33m(\u001b[0m\u001b[0mkey\u001b[0m\u001b[1;33m,\u001b[0m \u001b[0mmethod\u001b[0m\u001b[1;33m=\u001b[0m\u001b[0mmethod\u001b[0m\u001b[1;33m,\u001b[0m \u001b[0mtolerance\u001b[0m\u001b[1;33m=\u001b[0m\u001b[0mtolerance\u001b[0m\u001b[1;33m)\u001b[0m\u001b[1;33m\u001b[0m\u001b[1;33m\u001b[0m\u001b[0m\n\u001b[0;32m    356\u001b[0m \u001b[1;33m\u001b[0m\u001b[0m\n",
      "\u001b[1;31mKeyError\u001b[0m: 'Lisosia93'"
     ]
    }
   ],
   "source": [
    "t=purchase_data.groupby('SN').sum().sort_values(\"Price\",ascending=False).reset_index()\n",
    "print(t.head(5))\n",
    "for i in range(len(t)):\n",
    "    if(t.iloc[i]['SN'] == 'Lisosia93'):\n",
    "        print(t.iloc[i]['Price'])\n",
    "name = []\n",
    "\n",
    "\n",
    "times = purchase_data['SN'].value_counts()\n",
    "\n",
    "data = [(times[t.iloc[0]['SN']],'$'+str(round(total_value.loc[times.index[0]]['Price']/times[0],2)),'$'+str(round(total_value.loc[times.index[0]]['Price'],2))),\n",
    "       (times[t.iloc[0]['SN']],'$'+str(round(total_value.loc[times.index[1]]['Price']/times[1],2)),'$'+str(round(total_value.loc[times.index[1]]['Price'],2))),\n",
    "       (times[t.iloc[0]['SN']],'$'+str(round(total_value.loc[times.index[2]]['Price']/times[2],2)),'$'+str(round(total_value.loc[times.index[2]]['Price'],2))),\n",
    "       (times[t.iloc[0]['SN']],'$'+str(round(total_value.loc[times.index[3]]['Price']/times[3],2)),'$'+str(round(total_value.loc[times.index[3]]['Price'],2))),\n",
    "       (times[t.iloc[0]['SN']],'$'+str(round(total_value.loc[times.index[4]]['Price']/times[4],2)),'$'+str(round(total_value.loc[times.index[0]]['Price'],2)))]\n",
    "pd.DataFrame(data,columns = ['Purchase Count','Average Purchase Price','Total Purchase Value'],\n",
    "             index = [t.iloc[0]['SN'],t.iloc[1]['SN'],t.iloc[2]['SN'],t.iloc[3]['SN'],t.iloc[4]['SN']])"
   ]
  },
  {
   "cell_type": "code",
   "execution_count": 100,
   "metadata": {},
   "outputs": [
    {
     "data": {
      "text/plain": [
       "\"\\nvalue_sort = []\\n\\ntimes = purchase_data['SN'].value_counts()\\n\\nfor i in range(len(total_value)):\\n    value_sort.append(total_value['Price'][i])\\n    \\nvalue_sort.sort(reverse=True)\\n\\nname = []\\n\\nfor i in range(len(total_value)):\\n    if total_value['Price'][i] == value_sort[0]:\\n        name.append(total_value['SN'][i])\\n    \\n\\n    \\n\\ndata = [(times[0],'$'+str(round(total_value.loc[times.index[0]]['Price']/times[0],2)),'$'+str(round(total_value.loc[times.index[0]]['Price'],2))),\\n       (times[1],'$'+str(round(total_value.loc[times.index[1]]['Price']/times[1],2)),'$'+str(round(total_value.loc[times.index[1]]['Price'],2))),\\n       (times[2],'$'+str(round(total_value.loc[times.index[2]]['Price']/times[2],2)),'$'+str(round(total_value.loc[times.index[2]]['Price'],2))),\\n       (times[3],'$'+str(round(total_value.loc[times.index[3]]['Price']/times[3],2)),'$'+str(round(total_value.loc[times.index[3]]['Price'],2))),\\n       (times[4],'$'+str(round(total_value.loc[times.index[4]]['Price']/times[4],2)),'$'+str(round(total_value.loc[times.index[0]]['Price'],2)))]\\npd.DataFrame(data,columns = ['Purchase Count','Average Purchase Price','Total Purchase Value'],\\n             index = [times.index[0],times.index[1],times.index[2],times.index[3],times.index[4]])\\n\\n\""
      ]
     },
     "execution_count": 100,
     "metadata": {},
     "output_type": "execute_result"
    }
   ],
   "source": [
    "total_value = purchase_data.groupby('SN').sum().reset_index()\n",
    "print(total_value.iloc[0]['SN'])\n",
    "\n",
    "value_sort = []\n",
    "\n",
    "times = purchase_data['SN'].value_counts()\n",
    "\n",
    "for i in range(len(total_value)):\n",
    "    value_sort.append(total_value['Price'][i])\n",
    "    \n",
    "value_sort.sort(reverse=True)\n",
    "\n",
    "name = []\n",
    "\n",
    "for i in range(len(total_value)):\n",
    "    if total_value['Price'][i] == value_sort[0]:\n",
    "        name.append(total_value['SN'][i])\n",
    "    \n",
    "\n",
    "    \n",
    "\n",
    "data = [(times[0],'$'+str(round(total_value.loc[times.index[0]]['Price']/times[0],2)),'$'+str(round(total_value.loc[times.index[0]]['Price'],2))),\n",
    "       (times[1],'$'+str(round(total_value.loc[times.index[1]]['Price']/times[1],2)),'$'+str(round(total_value.loc[times.index[1]]['Price'],2))),\n",
    "       (times[2],'$'+str(round(total_value.loc[times.index[2]]['Price']/times[2],2)),'$'+str(round(total_value.loc[times.index[2]]['Price'],2))),\n",
    "       (times[3],'$'+str(round(total_value.loc[times.index[3]]['Price']/times[3],2)),'$'+str(round(total_value.loc[times.index[3]]['Price'],2))),\n",
    "       (times[4],'$'+str(round(total_value.loc[times.index[4]]['Price']/times[4],2)),'$'+str(round(total_value.loc[times.index[0]]['Price'],2)))]\n",
    "pd.DataFrame(data,columns = ['Purchase Count','Average Purchase Price','Total Purchase Value'],\n",
    "             index = [times.index[0],times.index[1],times.index[2],times.index[3],times.index[4]])"
   ]
  },
  {
   "cell_type": "code",
   "execution_count": 8,
   "metadata": {},
   "outputs": [
    {
     "data": {
      "text/html": [
       "<style  type=\"text/css\" >\n",
       "</style><table id=\"T_0516cc54_4411_11e9_9910_9822ef93214c\" ><thead>    <tr>        <th class=\"blank level0\" ></th>        <th class=\"col_heading level0 col0\" >Purchase Count</th>        <th class=\"col_heading level0 col1\" >Average Purchase Price</th>        <th class=\"col_heading level0 col2\" >Total Purchase Value</th>    </tr>    <tr>        <th class=\"index_name level0\" >SN</th>        <th class=\"blank\" ></th>        <th class=\"blank\" ></th>        <th class=\"blank\" ></th>    </tr></thead><tbody>\n",
       "                <tr>\n",
       "                        <th id=\"T_0516cc54_4411_11e9_9910_9822ef93214clevel0_row0\" class=\"row_heading level0 row0\" >Lisosia93</th>\n",
       "                        <td id=\"T_0516cc54_4411_11e9_9910_9822ef93214crow0_col0\" class=\"data row0 col0\" >5</td>\n",
       "                        <td id=\"T_0516cc54_4411_11e9_9910_9822ef93214crow0_col1\" class=\"data row0 col1\" >$3.79</td>\n",
       "                        <td id=\"T_0516cc54_4411_11e9_9910_9822ef93214crow0_col2\" class=\"data row0 col2\" >$18.96</td>\n",
       "            </tr>\n",
       "            <tr>\n",
       "                        <th id=\"T_0516cc54_4411_11e9_9910_9822ef93214clevel0_row1\" class=\"row_heading level0 row1\" >Idastidru52</th>\n",
       "                        <td id=\"T_0516cc54_4411_11e9_9910_9822ef93214crow1_col0\" class=\"data row1 col0\" >4</td>\n",
       "                        <td id=\"T_0516cc54_4411_11e9_9910_9822ef93214crow1_col1\" class=\"data row1 col1\" >$3.86</td>\n",
       "                        <td id=\"T_0516cc54_4411_11e9_9910_9822ef93214crow1_col2\" class=\"data row1 col2\" >$15.45</td>\n",
       "            </tr>\n",
       "            <tr>\n",
       "                        <th id=\"T_0516cc54_4411_11e9_9910_9822ef93214clevel0_row2\" class=\"row_heading level0 row2\" >Chamjask73</th>\n",
       "                        <td id=\"T_0516cc54_4411_11e9_9910_9822ef93214crow2_col0\" class=\"data row2 col0\" >3</td>\n",
       "                        <td id=\"T_0516cc54_4411_11e9_9910_9822ef93214crow2_col1\" class=\"data row2 col1\" >$4.61</td>\n",
       "                        <td id=\"T_0516cc54_4411_11e9_9910_9822ef93214crow2_col2\" class=\"data row2 col2\" >$13.83</td>\n",
       "            </tr>\n",
       "            <tr>\n",
       "                        <th id=\"T_0516cc54_4411_11e9_9910_9822ef93214clevel0_row3\" class=\"row_heading level0 row3\" >Iral74</th>\n",
       "                        <td id=\"T_0516cc54_4411_11e9_9910_9822ef93214crow3_col0\" class=\"data row3 col0\" >4</td>\n",
       "                        <td id=\"T_0516cc54_4411_11e9_9910_9822ef93214crow3_col1\" class=\"data row3 col1\" >$3.40</td>\n",
       "                        <td id=\"T_0516cc54_4411_11e9_9910_9822ef93214crow3_col2\" class=\"data row3 col2\" >$13.62</td>\n",
       "            </tr>\n",
       "            <tr>\n",
       "                        <th id=\"T_0516cc54_4411_11e9_9910_9822ef93214clevel0_row4\" class=\"row_heading level0 row4\" >Iskadarya95</th>\n",
       "                        <td id=\"T_0516cc54_4411_11e9_9910_9822ef93214crow4_col0\" class=\"data row4 col0\" >3</td>\n",
       "                        <td id=\"T_0516cc54_4411_11e9_9910_9822ef93214crow4_col1\" class=\"data row4 col1\" >$4.37</td>\n",
       "                        <td id=\"T_0516cc54_4411_11e9_9910_9822ef93214crow4_col2\" class=\"data row4 col2\" >$13.10</td>\n",
       "            </tr>\n",
       "    </tbody></table>"
      ],
      "text/plain": [
       "<pandas.io.formats.style.Styler at 0xb7ab750>"
      ]
     },
     "execution_count": 8,
     "metadata": {},
     "output_type": "execute_result"
    }
   ],
   "source": []
  },
  {
   "cell_type": "markdown",
   "metadata": {},
   "source": [
    "## Most Popular Items"
   ]
  },
  {
   "cell_type": "markdown",
   "metadata": {},
   "source": [
    "* Top 5 most popular items by purchase count:\n",
    "  * Item ID\n",
    "  * Item Name\n",
    "  * Purchase Count\n",
    "  * Item Price\n",
    "  * Total Purchase Value\n",
    "* Retrieve the Item ID, Item Name, and Item Price columns\n",
    "* Group by Item ID and Item Name. Perform calculations to obtain purchase count, item price, and total purchase value\n",
    "* Create a summary data frame to hold the results\n",
    "* Sort the purchase count column in descending order\n",
    "* Display a preview of the summary data frame"
   ]
  },
  {
   "cell_type": "code",
   "execution_count": null,
   "metadata": {},
   "outputs": [],
   "source": []
  },
  {
   "cell_type": "code",
   "execution_count": 9,
   "metadata": {},
   "outputs": [
    {
     "data": {
      "text/html": [
       "<style  type=\"text/css\" >\n",
       "</style><table id=\"T_051eb3ca_4411_11e9_8c15_9822ef93214c\" ><thead>    <tr>        <th class=\"blank\" ></th>        <th class=\"blank level0\" ></th>        <th class=\"col_heading level0 col0\" >Purchase Count</th>        <th class=\"col_heading level0 col1\" >Item Price</th>        <th class=\"col_heading level0 col2\" >Total Purchase Value</th>    </tr>    <tr>        <th class=\"index_name level0\" >Item ID</th>        <th class=\"index_name level1\" >Item Name</th>        <th class=\"blank\" ></th>        <th class=\"blank\" ></th>        <th class=\"blank\" ></th>    </tr></thead><tbody>\n",
       "                <tr>\n",
       "                        <th id=\"T_051eb3ca_4411_11e9_8c15_9822ef93214clevel0_row0\" class=\"row_heading level0 row0\" >178</th>\n",
       "                        <th id=\"T_051eb3ca_4411_11e9_8c15_9822ef93214clevel1_row0\" class=\"row_heading level1 row0\" >Oathbreaker, Last Hope of the Breaking Storm</th>\n",
       "                        <td id=\"T_051eb3ca_4411_11e9_8c15_9822ef93214crow0_col0\" class=\"data row0 col0\" >12</td>\n",
       "                        <td id=\"T_051eb3ca_4411_11e9_8c15_9822ef93214crow0_col1\" class=\"data row0 col1\" >$4.23</td>\n",
       "                        <td id=\"T_051eb3ca_4411_11e9_8c15_9822ef93214crow0_col2\" class=\"data row0 col2\" >$50.76</td>\n",
       "            </tr>\n",
       "            <tr>\n",
       "                        <th id=\"T_051eb3ca_4411_11e9_8c15_9822ef93214clevel0_row1\" class=\"row_heading level0 row1\" >145</th>\n",
       "                        <th id=\"T_051eb3ca_4411_11e9_8c15_9822ef93214clevel1_row1\" class=\"row_heading level1 row1\" >Fiery Glass Crusader</th>\n",
       "                        <td id=\"T_051eb3ca_4411_11e9_8c15_9822ef93214crow1_col0\" class=\"data row1 col0\" >9</td>\n",
       "                        <td id=\"T_051eb3ca_4411_11e9_8c15_9822ef93214crow1_col1\" class=\"data row1 col1\" >$4.58</td>\n",
       "                        <td id=\"T_051eb3ca_4411_11e9_8c15_9822ef93214crow1_col2\" class=\"data row1 col2\" >$41.22</td>\n",
       "            </tr>\n",
       "            <tr>\n",
       "                        <th id=\"T_051eb3ca_4411_11e9_8c15_9822ef93214clevel0_row2\" class=\"row_heading level0 row2\" >108</th>\n",
       "                        <th id=\"T_051eb3ca_4411_11e9_8c15_9822ef93214clevel1_row2\" class=\"row_heading level1 row2\" >Extraction, Quickblade Of Trembling Hands</th>\n",
       "                        <td id=\"T_051eb3ca_4411_11e9_8c15_9822ef93214crow2_col0\" class=\"data row2 col0\" >9</td>\n",
       "                        <td id=\"T_051eb3ca_4411_11e9_8c15_9822ef93214crow2_col1\" class=\"data row2 col1\" >$3.53</td>\n",
       "                        <td id=\"T_051eb3ca_4411_11e9_8c15_9822ef93214crow2_col2\" class=\"data row2 col2\" >$31.77</td>\n",
       "            </tr>\n",
       "            <tr>\n",
       "                        <th id=\"T_051eb3ca_4411_11e9_8c15_9822ef93214clevel0_row3\" class=\"row_heading level0 row3\" >82</th>\n",
       "                        <th id=\"T_051eb3ca_4411_11e9_8c15_9822ef93214clevel1_row3\" class=\"row_heading level1 row3\" >Nirvana</th>\n",
       "                        <td id=\"T_051eb3ca_4411_11e9_8c15_9822ef93214crow3_col0\" class=\"data row3 col0\" >9</td>\n",
       "                        <td id=\"T_051eb3ca_4411_11e9_8c15_9822ef93214crow3_col1\" class=\"data row3 col1\" >$4.90</td>\n",
       "                        <td id=\"T_051eb3ca_4411_11e9_8c15_9822ef93214crow3_col2\" class=\"data row3 col2\" >$44.10</td>\n",
       "            </tr>\n",
       "            <tr>\n",
       "                        <th id=\"T_051eb3ca_4411_11e9_8c15_9822ef93214clevel0_row4\" class=\"row_heading level0 row4\" >19</th>\n",
       "                        <th id=\"T_051eb3ca_4411_11e9_8c15_9822ef93214clevel1_row4\" class=\"row_heading level1 row4\" >Pursuit, Cudgel of Necromancy</th>\n",
       "                        <td id=\"T_051eb3ca_4411_11e9_8c15_9822ef93214crow4_col0\" class=\"data row4 col0\" >8</td>\n",
       "                        <td id=\"T_051eb3ca_4411_11e9_8c15_9822ef93214crow4_col1\" class=\"data row4 col1\" >$1.02</td>\n",
       "                        <td id=\"T_051eb3ca_4411_11e9_8c15_9822ef93214crow4_col2\" class=\"data row4 col2\" >$8.16</td>\n",
       "            </tr>\n",
       "    </tbody></table>"
      ],
      "text/plain": [
       "<pandas.io.formats.style.Styler at 0xc1cbbf0>"
      ]
     },
     "execution_count": 9,
     "metadata": {},
     "output_type": "execute_result"
    }
   ],
   "source": []
  },
  {
   "cell_type": "markdown",
   "metadata": {},
   "source": [
    "## Most Profitable Items"
   ]
  },
  {
   "cell_type": "markdown",
   "metadata": {},
   "source": [
    "* Top 5 most profitable items by total purchase value:\n",
    "  * Item ID\n",
    "  * Item Name\n",
    "  * Purchase Count\n",
    "  * Item Price\n",
    "  * Total Purchase Value\n",
    "* Sort the above table by total purchase value in descending order\n",
    "* Display a preview of the data frame"
   ]
  },
  {
   "cell_type": "code",
   "execution_count": null,
   "metadata": {},
   "outputs": [],
   "source": []
  },
  {
   "cell_type": "code",
   "execution_count": 10,
   "metadata": {
    "scrolled": true
   },
   "outputs": [
    {
     "data": {
      "text/html": [
       "<style  type=\"text/css\" >\n",
       "</style><table id=\"T_05231d8a_4411_11e9_80c0_9822ef93214c\" ><thead>    <tr>        <th class=\"blank\" ></th>        <th class=\"blank level0\" ></th>        <th class=\"col_heading level0 col0\" >Purchase Count</th>        <th class=\"col_heading level0 col1\" >Item Price</th>        <th class=\"col_heading level0 col2\" >Total Purchase Value</th>    </tr>    <tr>        <th class=\"index_name level0\" >Item ID</th>        <th class=\"index_name level1\" >Item Name</th>        <th class=\"blank\" ></th>        <th class=\"blank\" ></th>        <th class=\"blank\" ></th>    </tr></thead><tbody>\n",
       "                <tr>\n",
       "                        <th id=\"T_05231d8a_4411_11e9_80c0_9822ef93214clevel0_row0\" class=\"row_heading level0 row0\" >178</th>\n",
       "                        <th id=\"T_05231d8a_4411_11e9_80c0_9822ef93214clevel1_row0\" class=\"row_heading level1 row0\" >Oathbreaker, Last Hope of the Breaking Storm</th>\n",
       "                        <td id=\"T_05231d8a_4411_11e9_80c0_9822ef93214crow0_col0\" class=\"data row0 col0\" >12</td>\n",
       "                        <td id=\"T_05231d8a_4411_11e9_80c0_9822ef93214crow0_col1\" class=\"data row0 col1\" >$4.23</td>\n",
       "                        <td id=\"T_05231d8a_4411_11e9_80c0_9822ef93214crow0_col2\" class=\"data row0 col2\" >$50.76</td>\n",
       "            </tr>\n",
       "            <tr>\n",
       "                        <th id=\"T_05231d8a_4411_11e9_80c0_9822ef93214clevel0_row1\" class=\"row_heading level0 row1\" >82</th>\n",
       "                        <th id=\"T_05231d8a_4411_11e9_80c0_9822ef93214clevel1_row1\" class=\"row_heading level1 row1\" >Nirvana</th>\n",
       "                        <td id=\"T_05231d8a_4411_11e9_80c0_9822ef93214crow1_col0\" class=\"data row1 col0\" >9</td>\n",
       "                        <td id=\"T_05231d8a_4411_11e9_80c0_9822ef93214crow1_col1\" class=\"data row1 col1\" >$4.90</td>\n",
       "                        <td id=\"T_05231d8a_4411_11e9_80c0_9822ef93214crow1_col2\" class=\"data row1 col2\" >$44.10</td>\n",
       "            </tr>\n",
       "            <tr>\n",
       "                        <th id=\"T_05231d8a_4411_11e9_80c0_9822ef93214clevel0_row2\" class=\"row_heading level0 row2\" >145</th>\n",
       "                        <th id=\"T_05231d8a_4411_11e9_80c0_9822ef93214clevel1_row2\" class=\"row_heading level1 row2\" >Fiery Glass Crusader</th>\n",
       "                        <td id=\"T_05231d8a_4411_11e9_80c0_9822ef93214crow2_col0\" class=\"data row2 col0\" >9</td>\n",
       "                        <td id=\"T_05231d8a_4411_11e9_80c0_9822ef93214crow2_col1\" class=\"data row2 col1\" >$4.58</td>\n",
       "                        <td id=\"T_05231d8a_4411_11e9_80c0_9822ef93214crow2_col2\" class=\"data row2 col2\" >$41.22</td>\n",
       "            </tr>\n",
       "            <tr>\n",
       "                        <th id=\"T_05231d8a_4411_11e9_80c0_9822ef93214clevel0_row3\" class=\"row_heading level0 row3\" >92</th>\n",
       "                        <th id=\"T_05231d8a_4411_11e9_80c0_9822ef93214clevel1_row3\" class=\"row_heading level1 row3\" >Final Critic</th>\n",
       "                        <td id=\"T_05231d8a_4411_11e9_80c0_9822ef93214crow3_col0\" class=\"data row3 col0\" >8</td>\n",
       "                        <td id=\"T_05231d8a_4411_11e9_80c0_9822ef93214crow3_col1\" class=\"data row3 col1\" >$4.88</td>\n",
       "                        <td id=\"T_05231d8a_4411_11e9_80c0_9822ef93214crow3_col2\" class=\"data row3 col2\" >$39.04</td>\n",
       "            </tr>\n",
       "            <tr>\n",
       "                        <th id=\"T_05231d8a_4411_11e9_80c0_9822ef93214clevel0_row4\" class=\"row_heading level0 row4\" >103</th>\n",
       "                        <th id=\"T_05231d8a_4411_11e9_80c0_9822ef93214clevel1_row4\" class=\"row_heading level1 row4\" >Singed Scalpel</th>\n",
       "                        <td id=\"T_05231d8a_4411_11e9_80c0_9822ef93214crow4_col0\" class=\"data row4 col0\" >8</td>\n",
       "                        <td id=\"T_05231d8a_4411_11e9_80c0_9822ef93214crow4_col1\" class=\"data row4 col1\" >$4.35</td>\n",
       "                        <td id=\"T_05231d8a_4411_11e9_80c0_9822ef93214crow4_col2\" class=\"data row4 col2\" >$34.80</td>\n",
       "            </tr>\n",
       "    </tbody></table>"
      ],
      "text/plain": [
       "<pandas.io.formats.style.Styler at 0xb7ab5d0>"
      ]
     },
     "execution_count": 10,
     "metadata": {},
     "output_type": "execute_result"
    }
   ],
   "source": []
  }
 ],
 "metadata": {
  "anaconda-cloud": {},
  "kernel_info": {
   "name": "python3"
  },
  "kernelspec": {
   "display_name": "Python 3",
   "language": "python",
   "name": "python3"
  },
  "language_info": {
   "codemirror_mode": {
    "name": "ipython",
    "version": 3
   },
   "file_extension": ".py",
   "mimetype": "text/x-python",
   "name": "python",
   "nbconvert_exporter": "python",
   "pygments_lexer": "ipython3",
   "version": "3.8.5"
  },
  "nteract": {
   "version": "0.8.4"
  }
 },
 "nbformat": 4,
 "nbformat_minor": 2
}
